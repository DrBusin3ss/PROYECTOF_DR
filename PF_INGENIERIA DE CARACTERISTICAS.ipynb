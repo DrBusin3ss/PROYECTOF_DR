{
 "cells": [
  {
   "cell_type": "code",
   "execution_count": null,
   "metadata": {},
   "outputs": [],
   "source": [
    "import pandas as pd\n",
    "import numpy as pd\n",
    "import matplotlib.pyplot as plt"
   ]
  },
  {
   "cell_type": "code",
   "execution_count": null,
   "metadata": {},
   "outputs": [],
   "source": [
    "from sklearn.model_selection import train_test_split\n",
    "from sklearn.preprocessing import StandardScaler\n",
    "from sklearn.preprocessing import LabelEncoder"
   ]
  },
  {
   "cell_type": "code",
   "execution_count": null,
   "metadata": {},
   "outputs": [],
   "source": [
    "from sklearn.model_selection import cross_val_score\n",
    "from sklearn.metrics import accuracy_score, confusion_matrix, classification_report"
   ]
  },
  {
   "cell_type": "code",
   "execution_count": null,
   "metadata": {},
   "outputs": [],
   "source": [
    "import pandas as pd\n",
    "\n",
    "dataframe = pd.read_csv('C:/Users/Usuario/Desktop/proyecto_final/customers.csv', encoding= 'latin-1',  delimiter=';') \n",
    "print(dataframe.head())\n",
    "\n",
    "dataframe.head()"
   ]
  },
  {
   "cell_type": "code",
   "execution_count": null,
   "metadata": {},
   "outputs": [],
   "source": [
    "print(dataframe.columns)\n"
   ]
  },
  {
   "cell_type": "code",
   "execution_count": null,
   "metadata": {},
   "outputs": [],
   "source": [
    "x = dataframe[['Age','CustomerID']]\n",
    "y = dataframe['Gender']\n",
    "\n",
    "#prueba de ejes x,y"
   ]
  },
  {
   "cell_type": "code",
   "execution_count": null,
   "metadata": {},
   "outputs": [],
   "source": [
    "X = dataframe[['Age', 'CustomerID']]"
   ]
  },
  {
   "cell_type": "code",
   "execution_count": null,
   "metadata": {},
   "outputs": [],
   "source": [
    "X_train, X_test, y_train, y_test = train_test_split(X, y, test_size=0.3, shuffle=True, random_state=2023)\n"
   ]
  },
  {
   "cell_type": "code",
   "execution_count": null,
   "metadata": {},
   "outputs": [],
   "source": [
    "#Escalado de Variables\n",
    "scaler = StandardScaler()\n",
    "scaler.fit(X_train)\n",
    "X_train_std = scaler.transform(X_train)\n",
    "X_test_std = scaler.transform(X_test)"
   ]
  },
  {
   "cell_type": "code",
   "execution_count": null,
   "metadata": {},
   "outputs": [],
   "source": [
    "#NAIVE BAYES importe de modelo y generacion del modelo clasificador\n",
    "\n",
    "from sklearn.naive_bayes import GaussianNB\n",
    "\n",
    "clf_NB= GaussianNB()\n",
    "clf_NB\n"
   ]
  },
  {
   "cell_type": "code",
   "execution_count": null,
   "metadata": {},
   "outputs": [],
   "source": [
    "# Elimina la columna no deseada\n",
    "dataframe = dataframe.drop(columns=['AD'])"
   ]
  },
  {
   "cell_type": "code",
   "execution_count": null,
   "metadata": {},
   "outputs": [],
   "source": [
    "# Separa las características (X) y la variable objetivo (y)\n",
    "X = dataframe.drop(columns=['Churn'])\n",
    "y = dataframe['Churn']"
   ]
  },
  {
   "cell_type": "code",
   "execution_count": null,
   "metadata": {},
   "outputs": [],
   "source": [
    "from sklearn.impute import SimpleImputer"
   ]
  },
  {
   "cell_type": "code",
   "execution_count": null,
   "metadata": {},
   "outputs": [],
   "source": [
    "# Imputación de valores faltantes\n",
    "imputer = SimpleImputer(strategy='mean')\n",
    "imputer.fit(X_train_std)\n",
    "X_train_imputed = imputer.transform(X_train_std)\n",
    "X_test_imputed = imputer.transform(X_test_std)"
   ]
  },
  {
   "cell_type": "code",
   "execution_count": null,
   "metadata": {},
   "outputs": [],
   "source": [
    "# Entrenamiento del modelo\n",
    "clf_NB = GaussianNB()\n",
    "clf_NB.fit(X_train_imputed, y_train)\n"
   ]
  },
  {
   "cell_type": "code",
   "execution_count": null,
   "metadata": {},
   "outputs": [],
   "source": [
    "# Evaluación del modelo\n",
    "accuracy = clf_NB.score(X_test_imputed, y_test)\n",
    "print(\"Precisión del modelo: {:.2f}\".format(accuracy))"
   ]
  },
  {
   "cell_type": "code",
   "execution_count": null,
   "metadata": {},
   "outputs": [],
   "source": [
    "import pandas as pd\n",
    "\n",
    "# Combinar X_test_std y y_test en un DataFrame\n",
    "df_test = pd.concat([pd.DataFrame(X_test_std), pd.DataFrame(y_test)], axis=1)\n",
    "\n",
    "# Eliminar filas con valores faltantes\n",
    "df_test.dropna(inplace=True)\n",
    "\n",
    "# Separar los datos imputados de nuevo\n",
    "X_test_imputed = df_test.iloc[:, :-1].values\n",
    "y_test_imputed = df_test.iloc[:, -1].values\n"
   ]
  },
  {
   "cell_type": "code",
   "execution_count": null,
   "metadata": {},
   "outputs": [],
   "source": [
    "#A\n",
    "\n",
    "# Realizar las predicciones con los datos imputados\n",
    "y_preds_nb = clf_NB.predict(X_test_imputed)"
   ]
  },
  {
   "cell_type": "code",
   "execution_count": null,
   "metadata": {},
   "outputs": [],
   "source": [
    "#B\n",
    "\n",
    "\n",
    "# Codificación one-hot\n",
    "\n",
    "dataframe = pd.read_csv('C:/Users/Usuario/Desktop/proyecto_final/customers.csv', encoding= 'latin-1',  delimiter=';') \n",
    "print(dataframe.head())\n",
    "\n",
    "dataframe.head()\n",
    "\n",
    "cat_vars = ['Generation', 'Gender', 'Subscription Type', 'Country']\n",
    "\n",
    "# Aplicar la codificación one-hot\n",
    "dataframe_encoded = pd.get_dummies(dataframe, columns=cat_vars)\n",
    "\n",
    "# Ver los datos codificados\n",
    "print(dataframe_encoded.head())"
   ]
  },
  {
   "cell_type": "code",
   "execution_count": null,
   "metadata": {},
   "outputs": [],
   "source": [
    "# Codificación binaria usando LabelEncoder\n",
    "gem_var = 'Generation'\n",
    "\n",
    "# Aplicar la codificación binaria\n",
    "encoder = LabelEncoder()\n",
    "dataframe['Generation_Binar'] = encoder.fit_transform(dataframe['Generation'])\n",
    "\n",
    "# Ver los datos codificados\n",
    "print(dataframe.head())"
   ]
  },
  {
   "cell_type": "code",
   "execution_count": null,
   "metadata": {},
   "outputs": [],
   "source": [
    "# Codificación ordinal manual\n",
    "\n",
    "fec_var = 'Contract Length'\n",
    "\n",
    "# Definir el mapeo de valores\n",
    "mapping = {'Monthly': 1, 'Quarterly': 2, 'Annual': 3}\n",
    "\n",
    "# Aplicar la codificación ordinal\n",
    "dataframe['Contract_Length_Ordinal'] = dataframe['Contract Length'].map(mapping)\n",
    "\n",
    "# Ver los datos codificados\n",
    "print(dataframe.head())\n"
   ]
  },
  {
   "cell_type": "code",
   "execution_count": null,
   "metadata": {},
   "outputs": [],
   "source": [
    "#C\n",
    "## Seleccionar las variables numéricas para transformar\n",
    "num_vars = ['Age', 'Tenure', 'Usage Frequency', 'Support Calls', 'Payment Delay', 'Total Spend USD']\n",
    "\n",
    "# Aplicar el escalado estándar\n",
    "scaler = StandardScaler()\n",
    "dataframe[num_vars] = scaler.fit_transform(dataframe[num_vars])\n",
    "\n",
    "# Ver los datos transformados\n",
    "print(dataframe.head())"
   ]
  },
  {
   "cell_type": "code",
   "execution_count": null,
   "metadata": {},
   "outputs": [],
   "source": [
    "#Normalización usando MinMaxScaler de scikit-learn\n",
    "from sklearn.preprocessing import MinMaxScaler\n",
    "import pandas as pd\n",
    "\n",
    "# Seleccionar las variables numéricas para transformar\n",
    "num_vars = ['Age', 'Tenure', 'Usage Frequency', 'Support Calls', 'Payment Delay', 'Total Spend USD']\n",
    "\n",
    "# Aplicar la normalización\n",
    "scaler = MinMaxScaler()\n",
    "dataframe[num_vars] = scaler.fit_transform(dataframe[num_vars])\n",
    "\n",
    "# Ver los datos transformados\n",
    "print(dataframe.head())\n",
    "\n",
    "\n",
    "# Seleccionar las variables numéricas para transformar\n",
    "num_vars = ['Age', 'Tenure', 'Usage Frequency', 'Support Calls', 'Payment Delay', 'Total Spend USD']\n",
    "\n",
    "# Aplicar la normalización\n",
    "scaler = MinMaxScaler()\n",
    "dataframe[num_vars] = scaler.fit_transform(dataframe[num_vars])\n",
    "\n",
    "# Ver los datos transformados\n",
    "print(dataframe.head())"
   ]
  },
  {
   "cell_type": "code",
   "execution_count": null,
   "metadata": {},
   "outputs": [],
   "source": [
    "#D\n",
    "#Tratamiento de outliers\n",
    "import numpy as np\n",
    "# Seleccionar las variables numéricas con outliers\n",
    "num_vars = ['Age', 'Tenure', 'Usage Frequency', 'Support Calls', 'Payment Delay', 'Total Spend USD']\n",
    "\n",
    "# Definir la función para el tratamiento de outliers utilizando desviación estándar\n",
    "def remove_outliers_std(data, variable, threshold=3):\n",
    "    mean = np.mean(data[variable])\n",
    "    std = np.std(data[variable])\n",
    "    lower_bound = mean - threshold * std\n",
    "    upper_bound = mean + threshold * std\n",
    "    return data[(data[variable] >= lower_bound) & (data[variable] <= upper_bound)]\n",
    "\n",
    "# Aplicar el tratamiento de outliers para cada variable\n",
    "for var in num_vars:\n",
    "    dataframe = remove_outliers_std(dataframe, var)\n",
    "\n",
    "# Ver los datos después del tratamiento de outliers\n",
    "print(dataframe.head())\n"
   ]
  },
  {
   "cell_type": "code",
   "execution_count": null,
   "metadata": {},
   "outputs": [],
   "source": [
    "#E\n",
    "#Estandarización de variables\n",
    "\n",
    "num_vars = ['Age', 'Tenure', 'Usage Frequency', 'Support Calls', 'Payment Delay', 'Total Spend USD']\n",
    "\n",
    "# Crear un objeto de la clase StandardScaler\n",
    "scaler = StandardScaler()\n",
    "\n",
    "# Ajustar y transformar las variables numéricas seleccionadas\n",
    "dataframe[num_vars] = scaler.fit_transform(dataframe[num_vars])\n",
    "\n",
    "# Ver los datos después de la estandarización\n",
    "print(dataframe.head())"
   ]
  }
 ],
 "metadata": {
  "kernelspec": {
   "display_name": "Python 3",
   "language": "python",
   "name": "python3"
  },
  "language_info": {
   "codemirror_mode": {
    "name": "ipython",
    "version": 3
   },
   "file_extension": ".py",
   "mimetype": "text/x-python",
   "name": "python",
   "nbconvert_exporter": "python",
   "pygments_lexer": "ipython3",
   "version": "3.8.10"
  },
  "orig_nbformat": 4
 },
 "nbformat": 4,
 "nbformat_minor": 2
}
